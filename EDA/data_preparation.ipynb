{
 "cells": [
  {
   "cell_type": "code",
   "execution_count": 122,
   "metadata": {},
   "outputs": [],
   "source": [
    "import numpy as np\n",
    "import pandas as pd\n",
    "import os"
   ]
  },
  {
   "cell_type": "code",
   "execution_count": 129,
   "metadata": {},
   "outputs": [],
   "source": [
    "p = os.path.abspath('..')\n",
    "DATASET = 'DD'\n",
    "DATA_DIR = p + '/data/' + DATASET\n",
    "\n",
    "HEADER = None\n",
    "NODE_LAB = True\n",
    "NODE_ATT = True"
   ]
  },
  {
   "cell_type": "markdown",
   "metadata": {},
   "source": [
    "This folder contains the following comma separated text files \n",
    "(replace DS by the name of the dataset):\n",
    "\n",
    "$n$ = total number of nodes\n",
    "\n",
    "$m$ = total number of edges\n",
    "\n",
    "$N$ = number of graphs\n",
    "\n",
    "(1) DS_A.txt (m lines) \n",
    "\t\n",
    "    sparse (block diagonal) adjacency matrix for all graphs,\n",
    "\t\n",
    "    each line corresponds to (row, col) resp. (node_id, node_id)\n",
    "\n",
    "(2) DS_graph_indicator.txt (n lines)\n",
    "\t\n",
    "    column vector of graph identifiers for all nodes of all graphs,\n",
    "\t\n",
    "    the value in the i-th line is the graph_id of the node with node_id i\n",
    "\n",
    "(3) DS_graph_labels.txt (N lines) \n",
    "\t\n",
    "    class labels for all graphs in the dataset,\n",
    "\t\n",
    "    the value in the i-th line is the class label of the graph with graph_id i\n",
    "\n",
    "(4) DS_node_labels.txt (n lines)\n",
    "\n",
    "\tcolumn vector of node labels,\n",
    "\n",
    "    the value in the i-th line corresponds to the node with node_id i"
   ]
  },
  {
   "cell_type": "code",
   "execution_count": 130,
   "metadata": {},
   "outputs": [],
   "source": [
    "ds_A = pd.read_csv(DATA_DIR + '/' + DATASET + '_A.txt', header = HEADER) - 1\n",
    "ds_gInd = pd.read_csv(DATA_DIR + '/' + DATASET + '_graph_indicator.txt', header = HEADER) - 1\n",
    "ds_gLab = pd.read_csv(DATA_DIR + '/' + DATASET + '_graph_labels.txt', header = HEADER) - 1"
   ]
  },
  {
   "cell_type": "markdown",
   "metadata": {},
   "source": [
    "Now the index of graphs/nodes/edges start from 0"
   ]
  },
  {
   "cell_type": "code",
   "execution_count": 131,
   "metadata": {},
   "outputs": [],
   "source": [
    "try:\n",
    "    ds_nLab = pd.read_csv(DATA_DIR + '/' + DATASET + '_node_labels.txt', header = HEADER)\n",
    "except:\n",
    "    NODE_LAB = False\n",
    "    \n",
    "try:\n",
    "    ds_nAtt = pd.read_csv(DATA_DIR + '/' + DATASET + '_node_attributes.txt', header = HEADER)\n",
    "except:\n",
    "    NODE_ATT = False"
   ]
  },
  {
   "cell_type": "code",
   "execution_count": 135,
   "metadata": {},
   "outputs": [],
   "source": [
    "n_classes = len(ds_gLab[0].unique())\n",
    "n_graphs = len(ds_gLab)"
   ]
  },
  {
   "cell_type": "code",
   "execution_count": 137,
   "metadata": {},
   "outputs": [],
   "source": [
    "edge_to_graph = ds_A[0].apply(lambda x : ds_gInd[0][x])\n",
    "y_label = edge_to_graph.apply(lambda x : ds_gLab[0][x])"
   ]
  },
  {
   "cell_type": "code",
   "execution_count": 138,
   "metadata": {},
   "outputs": [],
   "source": [
    "ds_A = ds_A.assign(gL = edge_to_graph)\n",
    "ds_A = ds_A.assign(y = y_label)"
   ]
  }
 ],
 "metadata": {
  "kernelspec": {
   "display_name": "Python 3",
   "language": "python",
   "name": "python3"
  },
  "language_info": {
   "codemirror_mode": {
    "name": "ipython",
    "version": 3
   },
   "file_extension": ".py",
   "mimetype": "text/x-python",
   "name": "python",
   "nbconvert_exporter": "python",
   "pygments_lexer": "ipython3",
   "version": "3.6.4"
  }
 },
 "nbformat": 4,
 "nbformat_minor": 2
}
